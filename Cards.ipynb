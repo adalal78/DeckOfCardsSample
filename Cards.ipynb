{
 "cells": [
  {
   "cell_type": "code",
   "execution_count": 3,
   "metadata": {},
   "outputs": [
    {
     "name": "stdout",
     "output_type": "stream",
     "text": [
      "Average is  18.93982\n",
      "Median is  19.0\n",
      "Standard deviation is  6.71282044804\n"
     ]
    },
    {
     "data": {
      "image/png": "[encoded data removed]",
      "text/plain": [
       "<matplotlib.figure.Figure at 0x112b9f5d0>"
      ]
     },
     "metadata": {},
     "output_type": "display_data"
    },
    {
     "data": {
      "image/png": "[encoded data removed]",
      "text/plain": [
       "<matplotlib.figure.Figure at 0x1166dd790>"
      ]
     },
     "metadata": {},
     "output_type": "display_data"
    }
   ],
   "source": [
    "# coding: utf-8\n",
    "\n",
    "# In[114]:\n",
    "\n",
    "import random\n",
    "\n",
    "def CardValue(card):\n",
    "    \n",
    "    value = 0\n",
    "    \n",
    "    if(card[0] == 'A'):\n",
    "        value = value + 1\n",
    "        \n",
    "    elif(card[0] == 'J' or card[0] == 'Q' or card[0] == 'K'):\n",
    "        #value = value + 10\n",
    "        if(card[0] == 'J'):\n",
    "            value = value + 11\n",
    "        if(card[0] == 'Q'):\n",
    "            value = value + 12\n",
    "        if(card[0] == 'K'):\n",
    "            value = value + 13\n",
    "        \n",
    "    else:\n",
    "        value = value + int(card[0])\n",
    "        \n",
    "    return value\n",
    "\n",
    "def OneCardSample():\n",
    "    \n",
    "    CardSampleSum = 0\n",
    "    CardDeck = ['Ac', '2c', '3c', '4c', '5c', '6c', '7c', '8c', '9c', '10c', 'Jc', 'Qc', 'Kc', 'Ad', '2d', '3d', '4d', '5d', '6d', '7d', '8d', '9d', '10d', 'Jd', 'Qd', 'Kd', 'Ah', '2h', '3h', '4h', '5h', '6h', '7h', '8h', '9h', '10h', 'Jh', 'Qh', 'Kh', 'As', '2s', '3s', '4s', '5s', '6s', '7s', '8s', '9s', '10s', 'Js', 'Qs', 'Ks']\n",
    "    random.shuffle(CardDeck)\n",
    "    size = len(CardDeck)\n",
    "    \n",
    "    Index = random.randrange(size)\n",
    "    randCard = CardDeck[Index]\n",
    "    randCardValue = CardValue(list(randCard))\n",
    "    return [randCard, randCardValue]\n",
    "\n",
    "def OneCardTrials(n):\n",
    "    \n",
    "    CardValueArray = [0 for i in range(0,n)]\n",
    "    \n",
    "    for i in range(0,n):\n",
    "        Sample = OneCardSample()\n",
    "        CardValueArray[i] = Sample[1]\n",
    "        \n",
    "    return CardValueArray\n",
    "\n",
    "\n",
    "def ThreeCardSample():\n",
    "    \n",
    "    CardSampleSum = 0\n",
    "    CardDeck = ['Ac', '2c', '3c', '4c', '5c', '6c', '7c', '8c', '9c', '10c', 'Jc', 'Qc', 'Kc', 'Ad', '2d', '3d', '4d', '5d', '6d', '7d', '8d', '9d', '10d', 'Jd', 'Qd', 'Kd', 'Ah', '2h', '3h', '4h', '5h', '6h', '7h', '8h', '9h', '10h', 'Jh', 'Qh', 'Kh', 'As', '2s', '3s', '4s', '5s', '6s', '7s', '8s', '9s', '10s', 'Js', 'Qs', 'Ks']\n",
    "    random.shuffle(CardDeck)\n",
    "    size = len(CardDeck)\n",
    "    \n",
    "    removeAtIndex = random.randrange(size)\n",
    "    rand1 = CardDeck[removeAtIndex]\n",
    "    CardSampleSum = CardSampleSum + CardValue(list(rand1))\n",
    "    CardDeck[removeAtIndex] = CardDeck[size-1]\n",
    "    \n",
    "    removeAtIndex = random.randrange(size-1)\n",
    "    rand2 = CardDeck[removeAtIndex]\n",
    "    CardSampleSum = CardSampleSum + CardValue(list(rand2))\n",
    "    CardDeck[removeAtIndex] = CardDeck[size-2]\n",
    "    \n",
    "    removeAtIndex = random.randrange(size-2)\n",
    "    rand3 = CardDeck[removeAtIndex]\n",
    "    CardSampleSum = CardSampleSum + CardValue(list(rand3))\n",
    "    return [rand1, rand2, rand3, CardSampleSum]\n",
    "\n",
    "def ThreeCardTrials(n):\n",
    "    \n",
    "    ThreeCardSums = [0 for i in range(0,n)]\n",
    "    for i in range(0,n):\n",
    "        Sample = ThreeCardSample()\n",
    "        ThreeCardSums[i] = Sample[3]\n",
    "        #print Sample[0], Sample[1], Sample[2], Sample[3]\n",
    "    \n",
    "    return ThreeCardSums\n",
    "\n",
    "\n",
    "# In[122]:\n",
    "\n",
    "import numpy as np\n",
    "import matplotlib.pyplot as plt\n",
    "ThreeCardSums = ThreeCardTrials(100000)\n",
    "print \"Average is \", np.average(ThreeCardSums) \n",
    "print \"Median is \", np.median(ThreeCardSums)\n",
    "print \"Standard deviation is \", np.std(ThreeCardSums)\n",
    "myBins = [3*i for i in range(1,11)]\n",
    "plt.hist(ThreeCardSums, bins = myBins)\n",
    "plt.show()\n",
    "\n",
    "\n",
    "# In[117]:\n",
    "\n",
    "import numpy as np\n",
    "import matplotlib.pyplot as plt\n",
    "OneCardSum = OneCardTrials(100000)\n",
    "myBins = [i for i in range(0,11)]\n",
    "plt.hist(OneCardSum, bins = myBins)\n",
    "plt.show()\n",
    "\n",
    "\n",
    "# In[ ]:"
   ]
  },
  {
   "cell_type": "code",
   "execution_count": 7,
   "metadata": {},
   "outputs": [
    {
     "name": "stdout",
     "output_type": "stream",
     "text": [
      "('2d', '5s', '10h')\n",
      "('1c', 'As', 'Ah')\n",
      "('5d', '4d', '8d')\n",
      "('2c', '8d', 'Qh')\n",
      "('6d', 'Ad', 'Jc')\n",
      "('Ah', '9d', '6h')\n",
      "('9h', '10d', '9h')\n",
      "('10d', '3h', '7d')\n",
      "('3d', 'Ad', '4d')\n",
      "('6c', '5d', '10h')\n",
      "('9c', '1c', '8s')\n",
      "('3s', 'Qc', 'Jd')\n",
      "('3h', '2h', 'Js')\n",
      "('2c', 'Kh', '3s')\n",
      "('8h', '4d', '5d')\n",
      "('10h', '10d', 'Ah')\n",
      "('4c', '8d', 'Qs')\n",
      "('Ac', '7d', 'Ad')\n",
      "('Qh', 'Qd', '10s')\n",
      "('1d', 'Jh', '1c')\n",
      "('Kh', '10h', '9s')\n",
      "('3h', '10h', 'Jh')\n",
      "('9c', 'Jd', 'Qd')\n",
      "('4h', '5d', '9s')\n",
      "('9d', '5c', 'Ad')\n",
      "('8d', '2s', '2c')\n",
      "('8s', 'Kh', '6h')\n",
      "('Qc', '7d', '2c')\n",
      "('7c', '4s', '3d')\n",
      "('As', '6d', '9d')\n"
     ]
    }
   ],
   "source": []
  },
  {
   "cell_type": "code",
   "execution_count": null,
   "metadata": {
    "collapsed": true
   },
   "outputs": [],
   "source": []
  }
 ],
 "metadata": {
  "kernelspec": {
   "display_name": "Python 2",
   "language": "python",
   "name": "python2"
  },
  "language_info": {
   "codemirror_mode": {
    "name": "ipython",
    "version": 2
   },
   "file_extension": ".py",
   "mimetype": "text/x-python",
   "name": "python",
   "nbconvert_exporter": "python",
   "pygments_lexer": "ipython2",
   "version": "2.7.13"
  }
 },
 "nbformat": 4,
 "nbformat_minor": 2
}
